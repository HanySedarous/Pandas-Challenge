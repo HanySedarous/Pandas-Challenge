{
 "cells": [
  {
   "cell_type": "code",
   "execution_count": 5,
   "metadata": {},
   "outputs": [],
   "source": [
    "import pandas as pd\n",
    "import numpy as np"
   ]
  },
  {
   "cell_type": "code",
   "execution_count": 10,
   "metadata": {},
   "outputs": [
    {
     "data": {
      "text/html": [
       "<div>\n",
       "<style scoped>\n",
       "    .dataframe tbody tr th:only-of-type {\n",
       "        vertical-align: middle;\n",
       "    }\n",
       "\n",
       "    .dataframe tbody tr th {\n",
       "        vertical-align: top;\n",
       "    }\n",
       "\n",
       "    .dataframe thead th {\n",
       "        text-align: right;\n",
       "    }\n",
       "</style>\n",
       "<table border=\"1\" class=\"dataframe\">\n",
       "  <thead>\n",
       "    <tr style=\"text-align: right;\">\n",
       "      <th></th>\n",
       "      <th>Purchase ID</th>\n",
       "      <th>SN</th>\n",
       "      <th>Age</th>\n",
       "      <th>Gender</th>\n",
       "      <th>Item ID</th>\n",
       "      <th>Item Name</th>\n",
       "      <th>Price</th>\n",
       "    </tr>\n",
       "  </thead>\n",
       "  <tbody>\n",
       "    <tr>\n",
       "      <th>0</th>\n",
       "      <td>0</td>\n",
       "      <td>Lisim78</td>\n",
       "      <td>20</td>\n",
       "      <td>Male</td>\n",
       "      <td>108</td>\n",
       "      <td>Extraction, Quickblade Of Trembling Hands</td>\n",
       "      <td>3.53</td>\n",
       "    </tr>\n",
       "    <tr>\n",
       "      <th>1</th>\n",
       "      <td>1</td>\n",
       "      <td>Lisovynya38</td>\n",
       "      <td>40</td>\n",
       "      <td>Male</td>\n",
       "      <td>143</td>\n",
       "      <td>Frenzied Scimitar</td>\n",
       "      <td>1.56</td>\n",
       "    </tr>\n",
       "    <tr>\n",
       "      <th>2</th>\n",
       "      <td>2</td>\n",
       "      <td>Ithergue48</td>\n",
       "      <td>24</td>\n",
       "      <td>Male</td>\n",
       "      <td>92</td>\n",
       "      <td>Final Critic</td>\n",
       "      <td>4.88</td>\n",
       "    </tr>\n",
       "    <tr>\n",
       "      <th>3</th>\n",
       "      <td>3</td>\n",
       "      <td>Chamassasya86</td>\n",
       "      <td>24</td>\n",
       "      <td>Male</td>\n",
       "      <td>100</td>\n",
       "      <td>Blindscythe</td>\n",
       "      <td>3.27</td>\n",
       "    </tr>\n",
       "    <tr>\n",
       "      <th>4</th>\n",
       "      <td>4</td>\n",
       "      <td>Iskosia90</td>\n",
       "      <td>23</td>\n",
       "      <td>Male</td>\n",
       "      <td>131</td>\n",
       "      <td>Fury</td>\n",
       "      <td>1.44</td>\n",
       "    </tr>\n",
       "  </tbody>\n",
       "</table>\n",
       "</div>"
      ],
      "text/plain": [
       "   Purchase ID             SN  Age Gender  Item ID  \\\n",
       "0            0        Lisim78   20   Male      108   \n",
       "1            1    Lisovynya38   40   Male      143   \n",
       "2            2     Ithergue48   24   Male       92   \n",
       "3            3  Chamassasya86   24   Male      100   \n",
       "4            4      Iskosia90   23   Male      131   \n",
       "\n",
       "                                   Item Name  Price  \n",
       "0  Extraction, Quickblade Of Trembling Hands   3.53  \n",
       "1                          Frenzied Scimitar   1.56  \n",
       "2                               Final Critic   4.88  \n",
       "3                                Blindscythe   3.27  \n",
       "4                                       Fury   1.44  "
      ]
     },
     "execution_count": 10,
     "metadata": {},
     "output_type": "execute_result"
    }
   ],
   "source": [
    "csv_file = \"C:/Hany/Data Analyst Course/paython/Pandas-Chellenge/HeroesOfPymoli_Resources_purchase_data.csv\"\n",
    "Heroes_of_Pymoli = pd.read_csv(csv_file)\n",
    "new_Item_ID = Heroes_of_Pymoli.groupby('Item ID').count()\n",
    "Heroes_of_Pymoli.head()"
   ]
  },
  {
   "cell_type": "code",
   "execution_count": 11,
   "metadata": {},
   "outputs": [
    {
     "data": {
      "text/html": [
       "<div>\n",
       "<style scoped>\n",
       "    .dataframe tbody tr th:only-of-type {\n",
       "        vertical-align: middle;\n",
       "    }\n",
       "\n",
       "    .dataframe tbody tr th {\n",
       "        vertical-align: top;\n",
       "    }\n",
       "\n",
       "    .dataframe thead th {\n",
       "        text-align: right;\n",
       "    }\n",
       "</style>\n",
       "<table border=\"1\" class=\"dataframe\">\n",
       "  <thead>\n",
       "    <tr style=\"text-align: right;\">\n",
       "      <th></th>\n",
       "      <th>Purchase ID</th>\n",
       "      <th>Age</th>\n",
       "      <th>Item ID</th>\n",
       "      <th>Price</th>\n",
       "    </tr>\n",
       "  </thead>\n",
       "  <tbody>\n",
       "    <tr>\n",
       "      <th>count</th>\n",
       "      <td>780.000000</td>\n",
       "      <td>780.000000</td>\n",
       "      <td>780.000000</td>\n",
       "      <td>780.000000</td>\n",
       "    </tr>\n",
       "    <tr>\n",
       "      <th>mean</th>\n",
       "      <td>389.500000</td>\n",
       "      <td>22.714103</td>\n",
       "      <td>91.755128</td>\n",
       "      <td>3.050987</td>\n",
       "    </tr>\n",
       "    <tr>\n",
       "      <th>std</th>\n",
       "      <td>225.310896</td>\n",
       "      <td>6.659444</td>\n",
       "      <td>52.697702</td>\n",
       "      <td>1.169549</td>\n",
       "    </tr>\n",
       "    <tr>\n",
       "      <th>min</th>\n",
       "      <td>0.000000</td>\n",
       "      <td>7.000000</td>\n",
       "      <td>0.000000</td>\n",
       "      <td>1.000000</td>\n",
       "    </tr>\n",
       "    <tr>\n",
       "      <th>25%</th>\n",
       "      <td>194.750000</td>\n",
       "      <td>20.000000</td>\n",
       "      <td>47.750000</td>\n",
       "      <td>1.980000</td>\n",
       "    </tr>\n",
       "    <tr>\n",
       "      <th>50%</th>\n",
       "      <td>389.500000</td>\n",
       "      <td>22.000000</td>\n",
       "      <td>92.000000</td>\n",
       "      <td>3.150000</td>\n",
       "    </tr>\n",
       "    <tr>\n",
       "      <th>75%</th>\n",
       "      <td>584.250000</td>\n",
       "      <td>25.000000</td>\n",
       "      <td>138.000000</td>\n",
       "      <td>4.080000</td>\n",
       "    </tr>\n",
       "    <tr>\n",
       "      <th>max</th>\n",
       "      <td>779.000000</td>\n",
       "      <td>45.000000</td>\n",
       "      <td>183.000000</td>\n",
       "      <td>4.990000</td>\n",
       "    </tr>\n",
       "  </tbody>\n",
       "</table>\n",
       "</div>"
      ],
      "text/plain": [
       "       Purchase ID         Age     Item ID       Price\n",
       "count   780.000000  780.000000  780.000000  780.000000\n",
       "mean    389.500000   22.714103   91.755128    3.050987\n",
       "std     225.310896    6.659444   52.697702    1.169549\n",
       "min       0.000000    7.000000    0.000000    1.000000\n",
       "25%     194.750000   20.000000   47.750000    1.980000\n",
       "50%     389.500000   22.000000   92.000000    3.150000\n",
       "75%     584.250000   25.000000  138.000000    4.080000\n",
       "max     779.000000   45.000000  183.000000    4.990000"
      ]
     },
     "execution_count": 11,
     "metadata": {},
     "output_type": "execute_result"
    }
   ],
   "source": [
    "Heroes_of_Pymoli.describe()"
   ]
  },
  {
   "cell_type": "code",
   "execution_count": 12,
   "metadata": {},
   "outputs": [
    {
     "data": {
      "text/plain": [
       "780"
      ]
     },
     "execution_count": 12,
     "metadata": {},
     "output_type": "execute_result"
    }
   ],
   "source": [
    "new_Item_ID[\"Price\"].sum()"
   ]
  },
  {
   "cell_type": "code",
   "execution_count": 344,
   "metadata": {},
   "outputs": [],
   "source": [
    "#total number of players"
   ]
  },
  {
   "cell_type": "code",
   "execution_count": 13,
   "metadata": {},
   "outputs": [
    {
     "data": {
      "text/plain": [
       "576"
      ]
     },
     "execution_count": 13,
     "metadata": {},
     "output_type": "execute_result"
    }
   ],
   "source": [
    "Unique_Items = Heroes_of_Pymoli[\"SN\"].drop_duplicates()\n",
    "Unique_Items.count()"
   ]
  },
  {
   "cell_type": "code",
   "execution_count": 7,
   "metadata": {},
   "outputs": [],
   "source": [
    "#Number of Unique Items"
   ]
  },
  {
   "cell_type": "code",
   "execution_count": 14,
   "metadata": {},
   "outputs": [
    {
     "data": {
      "text/plain": [
       "179"
      ]
     },
     "execution_count": 14,
     "metadata": {},
     "output_type": "execute_result"
    }
   ],
   "source": [
    "Unique_Items = Heroes_of_Pymoli[\"Item Name\"].drop_duplicates()\n",
    "Unique_Items.count()"
   ]
  },
  {
   "cell_type": "code",
   "execution_count": 9,
   "metadata": {},
   "outputs": [],
   "source": [
    "#Average Purchase Price"
   ]
  },
  {
   "cell_type": "code",
   "execution_count": 15,
   "metadata": {},
   "outputs": [
    {
     "data": {
      "text/plain": [
       "3.050987179487176"
      ]
     },
     "execution_count": 15,
     "metadata": {},
     "output_type": "execute_result"
    }
   ],
   "source": [
    "Heroes_of_Pymoli[\"Price\"].mean()"
   ]
  },
  {
   "cell_type": "code",
   "execution_count": 11,
   "metadata": {},
   "outputs": [],
   "source": [
    "#Total Number of Purchases"
   ]
  },
  {
   "cell_type": "code",
   "execution_count": 16,
   "metadata": {},
   "outputs": [
    {
     "data": {
      "text/plain": [
       "Purchase ID    780\n",
       "dtype: int64"
      ]
     },
     "execution_count": 16,
     "metadata": {},
     "output_type": "execute_result"
    }
   ],
   "source": [
    "Heroes_of_Pymoli[[\"Purchase ID\"]].count()"
   ]
  },
  {
   "cell_type": "code",
   "execution_count": 13,
   "metadata": {},
   "outputs": [],
   "source": [
    "#Total Revenue"
   ]
  },
  {
   "cell_type": "code",
   "execution_count": 17,
   "metadata": {},
   "outputs": [
    {
     "data": {
      "text/plain": [
       "2379.77"
      ]
     },
     "execution_count": 17,
     "metadata": {},
     "output_type": "execute_result"
    }
   ],
   "source": [
    "Heroes_of_Pymoli[\"Price\"].sum()"
   ]
  },
  {
   "cell_type": "code",
   "execution_count": 15,
   "metadata": {},
   "outputs": [],
   "source": [
    "#Percentage and Count of Male Players"
   ]
  },
  {
   "cell_type": "code",
   "execution_count": 18,
   "metadata": {},
   "outputs": [
    {
     "data": {
      "text/html": [
       "<div>\n",
       "<style scoped>\n",
       "    .dataframe tbody tr th:only-of-type {\n",
       "        vertical-align: middle;\n",
       "    }\n",
       "\n",
       "    .dataframe tbody tr th {\n",
       "        vertical-align: top;\n",
       "    }\n",
       "\n",
       "    .dataframe thead th {\n",
       "        text-align: right;\n",
       "    }\n",
       "</style>\n",
       "<table border=\"1\" class=\"dataframe\">\n",
       "  <thead>\n",
       "    <tr style=\"text-align: right;\">\n",
       "      <th></th>\n",
       "      <th>Purchase ID</th>\n",
       "      <th>SN</th>\n",
       "      <th>Age</th>\n",
       "      <th>Gender</th>\n",
       "      <th>Item ID</th>\n",
       "      <th>Item Name</th>\n",
       "      <th>Price</th>\n",
       "    </tr>\n",
       "  </thead>\n",
       "  <tbody>\n",
       "    <tr>\n",
       "      <th>1</th>\n",
       "      <td>1</td>\n",
       "      <td>Lisovynya38</td>\n",
       "      <td>40</td>\n",
       "      <td>Male</td>\n",
       "      <td>143</td>\n",
       "      <td>Frenzied Scimitar</td>\n",
       "      <td>1.56</td>\n",
       "    </tr>\n",
       "    <tr>\n",
       "      <th>2</th>\n",
       "      <td>2</td>\n",
       "      <td>Ithergue48</td>\n",
       "      <td>24</td>\n",
       "      <td>Male</td>\n",
       "      <td>92</td>\n",
       "      <td>Final Critic</td>\n",
       "      <td>4.88</td>\n",
       "    </tr>\n",
       "    <tr>\n",
       "      <th>3</th>\n",
       "      <td>3</td>\n",
       "      <td>Chamassasya86</td>\n",
       "      <td>24</td>\n",
       "      <td>Male</td>\n",
       "      <td>100</td>\n",
       "      <td>Blindscythe</td>\n",
       "      <td>3.27</td>\n",
       "    </tr>\n",
       "    <tr>\n",
       "      <th>4</th>\n",
       "      <td>4</td>\n",
       "      <td>Iskosia90</td>\n",
       "      <td>23</td>\n",
       "      <td>Male</td>\n",
       "      <td>131</td>\n",
       "      <td>Fury</td>\n",
       "      <td>1.44</td>\n",
       "    </tr>\n",
       "    <tr>\n",
       "      <th>6</th>\n",
       "      <td>6</td>\n",
       "      <td>Itheria73</td>\n",
       "      <td>36</td>\n",
       "      <td>Male</td>\n",
       "      <td>169</td>\n",
       "      <td>Interrogator, Blood Blade of the Queen</td>\n",
       "      <td>2.18</td>\n",
       "    </tr>\n",
       "  </tbody>\n",
       "</table>\n",
       "</div>"
      ],
      "text/plain": [
       "   Purchase ID             SN  Age Gender  Item ID  \\\n",
       "1            1    Lisovynya38   40   Male      143   \n",
       "2            2     Ithergue48   24   Male       92   \n",
       "3            3  Chamassasya86   24   Male      100   \n",
       "4            4      Iskosia90   23   Male      131   \n",
       "6            6      Itheria73   36   Male      169   \n",
       "\n",
       "                                Item Name  Price  \n",
       "1                       Frenzied Scimitar   1.56  \n",
       "2                            Final Critic   4.88  \n",
       "3                             Blindscythe   3.27  \n",
       "4                                    Fury   1.44  \n",
       "6  Interrogator, Blood Blade of the Queen   2.18  "
      ]
     },
     "execution_count": 18,
     "metadata": {},
     "output_type": "execute_result"
    }
   ],
   "source": [
    "# dropping ALL duplicte values \n",
    "Heroes_of_Pymoli.drop_duplicates(subset =\"SN\", keep = False, inplace = True)\n",
    "  \n",
    "# displaying data \n",
    "Heroes_of_Pymoli.head()"
   ]
  },
  {
   "cell_type": "code",
   "execution_count": 19,
   "metadata": {},
   "outputs": [
    {
     "data": {
      "text/html": [
       "<div>\n",
       "<style scoped>\n",
       "    .dataframe tbody tr th:only-of-type {\n",
       "        vertical-align: middle;\n",
       "    }\n",
       "\n",
       "    .dataframe tbody tr th {\n",
       "        vertical-align: top;\n",
       "    }\n",
       "\n",
       "    .dataframe thead th {\n",
       "        text-align: right;\n",
       "    }\n",
       "</style>\n",
       "<table border=\"1\" class=\"dataframe\">\n",
       "  <thead>\n",
       "    <tr style=\"text-align: right;\">\n",
       "      <th></th>\n",
       "      <th>Count</th>\n",
       "      <th>Percentage</th>\n",
       "    </tr>\n",
       "  </thead>\n",
       "  <tbody>\n",
       "    <tr>\n",
       "      <th>Male</th>\n",
       "      <td>352</td>\n",
       "      <td>85.02%</td>\n",
       "    </tr>\n",
       "    <tr>\n",
       "      <th>Female</th>\n",
       "      <td>55</td>\n",
       "      <td>13.29%</td>\n",
       "    </tr>\n",
       "    <tr>\n",
       "      <th>Other / Non-Disclosed</th>\n",
       "      <td>7</td>\n",
       "      <td>1.69%</td>\n",
       "    </tr>\n",
       "  </tbody>\n",
       "</table>\n",
       "</div>"
      ],
      "text/plain": [
       "                       Count Percentage\n",
       "Male                     352     85.02%\n",
       "Female                    55     13.29%\n",
       "Other / Non-Disclosed      7      1.69%"
      ]
     },
     "execution_count": 19,
     "metadata": {},
     "output_type": "execute_result"
    }
   ],
   "source": [
    "gender_percent= Heroes_of_Pymoli.Gender\n",
    "Counts = gender_percent.value_counts()\n",
    "Percet100 = gender_percent.value_counts(normalize=True).mul(100).round(2).astype(str) + \"%\"\n",
    "pd.DataFrame({\"Count\": Counts, \"Percentage\": Percet100})"
   ]
  },
  {
   "cell_type": "code",
   "execution_count": 37,
   "metadata": {},
   "outputs": [
    {
     "data": {
      "text/plain": [
       "Gender\n",
       "Female                    55\n",
       "Male                     352\n",
       "Other / Non-Disclosed      7\n",
       "dtype: int64"
      ]
     },
     "execution_count": 37,
     "metadata": {},
     "output_type": "execute_result"
    }
   ],
   "source": [
    "gender= Heroes_of_Pymoli.groupby('Gender').size()\n",
    "gender"
   ]
  },
  {
   "cell_type": "code",
   "execution_count": 20,
   "metadata": {},
   "outputs": [
    {
     "data": {
      "text/plain": [
       "414"
      ]
     },
     "execution_count": 20,
     "metadata": {},
     "output_type": "execute_result"
    }
   ],
   "source": [
    "Heroes_of_Pymoli_males = Heroes_of_Pymoli.query(\"Gender == 'Male'\").SN.unique()\n",
    "len(Heroes_of_Pymoli_males)\n",
    "Heroes_of_Pymoli_females = Heroes_of_Pymoli.query(\"Gender == 'Female'\").SN.unique()\n",
    "len(Heroes_of_Pymoli_females)\n",
    "Heroes_of_Pymoli_other = Heroes_of_Pymoli.query(\"Gender == 'Other / Non-Disclosed'\").SN.unique()\n",
    "len(Heroes_of_Pymoli_other)\n",
    "Heroes_of_Pymoli_all = Heroes_of_Pymoli.SN.unique()\n",
    "len(Heroes_of_Pymoli_all)"
   ]
  },
  {
   "cell_type": "code",
   "execution_count": 21,
   "metadata": {},
   "outputs": [
    {
     "data": {
      "text/plain": [
       "1      Lisovynya38\n",
       "2       Ithergue48\n",
       "3    Chamassasya86\n",
       "4        Iskosia90\n",
       "6        Itheria73\n",
       "Name: SN, dtype: object"
      ]
     },
     "execution_count": 21,
     "metadata": {},
     "output_type": "execute_result"
    }
   ],
   "source": [
    "new_heroes = Heroes_of_Pymoli[['SN', 'Gender', 'Price']].copy()\n",
    "new_gender = Heroes_of_Pymoli[\"SN\"].drop_duplicates()\n",
    "new_gender.head()"
   ]
  },
  {
   "cell_type": "code",
   "execution_count": 22,
   "metadata": {},
   "outputs": [
    {
     "name": "stdout",
     "output_type": "stream",
     "text": [
      "Purchase count for males is 352\n",
      "Average purchase price for males is 3.021477272727272\n",
      "Total purchase valuefor males is 1063.5600000000002\n",
      "Average Purchase Total for male 3.021477272727272\n"
     ]
    }
   ],
   "source": [
    "### Purchasing Analysis (Gender/Male)\n",
    "male_data = Heroes_of_Pymoli.query('Gender == \"Male\"')\n",
    "male_purchase_count = male_data[\"Purchase ID\"].count()\n",
    "male_Average_Purchase_Price = male_data[\"Price\"].mean()\n",
    "male_Total_Purchase_Value = male_data[\"Price\"].sum()\n",
    "male_Total_Purchase_Value = male_data[\"Price\"].sum()\n",
    "print(\"Purchase count for males is \" + str(male_purchase_count))\n",
    "print(\"Average purchase price for males is \" + str(male_Average_Purchase_Price))\n",
    "print(\"Total purchase valuefor males is \" + str(male_Total_Purchase_Value))\n",
    "male_data.loc[male_data['SN'] == 1, 'Price'].sum()\n",
    "print(\"Average Purchase Total for male \" + str(male_data[\"Price\"].mean()))"
   ]
  },
  {
   "cell_type": "code",
   "execution_count": 23,
   "metadata": {},
   "outputs": [
    {
     "name": "stdout",
     "output_type": "stream",
     "text": [
      "Purchase count for females is 55\n",
      "Average purchase price for females is 3.2061818181818182\n",
      "Total purchase valuefor females is 176.33999999999997\n",
      "Average Purchase Total for female 3.2061818181818182\n"
     ]
    }
   ],
   "source": [
    "### Purchasing Analysis (Gender/Female)\n",
    "female_data = Heroes_of_Pymoli.query('Gender == \"Female\"')\n",
    "female_purchase_count = female_data[\"Purchase ID\"].count()\n",
    "female_Average_Purchase_Price = female_data[\"Price\"].mean()\n",
    "female_Total_Purchase_Value = female_data[\"Price\"].sum()\n",
    "female_Total_Purchase_Value = female_data[\"Price\"].sum()\n",
    "print(\"Purchase count for females is \" + str(female_purchase_count))\n",
    "print(\"Average purchase price for females is \" + str(female_Average_Purchase_Price))\n",
    "print(\"Total purchase valuefor females is \" + str(female_Total_Purchase_Value))\n",
    "female_data.loc[female_data['SN'] == 1, 'Price'].sum()\n",
    "print(\"Average Purchase Total for female \" + str(female_data[\"Price\"].mean()))"
   ]
  },
  {
   "cell_type": "code",
   "execution_count": 24,
   "metadata": {},
   "outputs": [
    {
     "name": "stdout",
     "output_type": "stream",
     "text": [
      "Purchase count for males is 7\n",
      "Average purchase price for males is 3.3542857142857145\n",
      "Total purchase valuefor males is 23.48\n",
      "Average Purchase Total for other 3.3542857142857145\n"
     ]
    }
   ],
   "source": [
    "### Purchasing Analysis (Gender/Male)\n",
    "other_data = Heroes_of_Pymoli.query('Gender == \"Other / Non-Disclosed\"')\n",
    "other_purchase_count = other_data[\"Purchase ID\"].count()\n",
    "other_Average_Purchase_Price = other_data[\"Price\"].mean()\n",
    "other_Total_Purchase_Value = other_data[\"Price\"].sum()\n",
    "other_Total_Purchase_Value = other_data[\"Price\"].sum()\n",
    "print(\"Purchase count for males is \" + str(other_purchase_count))\n",
    "print(\"Average purchase price for males is \" + str(other_Average_Purchase_Price))\n",
    "print(\"Total purchase valuefor males is \" + str(other_Total_Purchase_Value))\n",
    "other_data.loc[other_data['SN'] == 1, 'Price'].sum()\n",
    "print(\"Average Purchase Total for other \" + str(other_data[\"Price\"].mean()))"
   ]
  },
  {
   "cell_type": "code",
   "execution_count": 25,
   "metadata": {},
   "outputs": [
    {
     "data": {
      "text/plain": [
       "85.02415458937197"
      ]
     },
     "execution_count": 25,
     "metadata": {},
     "output_type": "execute_result"
    }
   ],
   "source": [
    "len(Heroes_of_Pymoli_males)/len(Heroes_of_Pymoli_all)*100"
   ]
  },
  {
   "cell_type": "code",
   "execution_count": 35,
   "metadata": {},
   "outputs": [],
   "source": [
    "#Percentage and Count of Female Players"
   ]
  },
  {
   "cell_type": "code",
   "execution_count": 111,
   "metadata": {},
   "outputs": [
    {
     "ename": "SyntaxError",
     "evalue": "invalid syntax (<ipython-input-111-2d329d9e986d>, line 4)",
     "output_type": "error",
     "traceback": [
      "\u001b[1;36m  File \u001b[1;32m\"<ipython-input-111-2d329d9e986d>\"\u001b[1;36m, line \u001b[1;32m4\u001b[0m\n\u001b[1;33m    * The below each broken into bins of 4 years (i.e. &lt;10, 10-14, 15-19, etc.)\u001b[0m\n\u001b[1;37m              ^\u001b[0m\n\u001b[1;31mSyntaxError\u001b[0m\u001b[1;31m:\u001b[0m invalid syntax\n"
     ]
    }
   ],
   "source": [
    "### Purchasing Analysis (Age)\n",
    "### Age Demographics\n",
    "\n",
    "* The below each broken into bins of 4 years (i.e. &lt;10, 10-14, 15-19, etc.)\n",
    "  * Purchase Count\n",
    "  * Average Purchase Price\n",
    "  * Total Purchase Value\n",
    "  * Average Purchase Total per Person by Age Group"
   ]
  },
  {
   "cell_type": "code",
   "execution_count": 27,
   "metadata": {},
   "outputs": [
    {
     "data": {
      "text/html": [
       "<div>\n",
       "<style scoped>\n",
       "    .dataframe tbody tr th:only-of-type {\n",
       "        vertical-align: middle;\n",
       "    }\n",
       "\n",
       "    .dataframe tbody tr th {\n",
       "        vertical-align: top;\n",
       "    }\n",
       "\n",
       "    .dataframe thead th {\n",
       "        text-align: right;\n",
       "    }\n",
       "</style>\n",
       "<table border=\"1\" class=\"dataframe\">\n",
       "  <thead>\n",
       "    <tr style=\"text-align: right;\">\n",
       "      <th></th>\n",
       "      <th>count</th>\n",
       "      <th>mean</th>\n",
       "      <th>sum</th>\n",
       "    </tr>\n",
       "    <tr>\n",
       "      <th>Age</th>\n",
       "      <th></th>\n",
       "      <th></th>\n",
       "      <th></th>\n",
       "    </tr>\n",
       "  </thead>\n",
       "  <tbody>\n",
       "    <tr>\n",
       "      <th>(4, 8]</th>\n",
       "      <td>10</td>\n",
       "      <td>3.749000</td>\n",
       "      <td>37.49</td>\n",
       "    </tr>\n",
       "    <tr>\n",
       "      <th>(8, 12]</th>\n",
       "      <td>15</td>\n",
       "      <td>3.221333</td>\n",
       "      <td>48.32</td>\n",
       "    </tr>\n",
       "    <tr>\n",
       "      <th>(12, 16]</th>\n",
       "      <td>44</td>\n",
       "      <td>3.002955</td>\n",
       "      <td>132.13</td>\n",
       "    </tr>\n",
       "    <tr>\n",
       "      <th>(16, 20]</th>\n",
       "      <td>94</td>\n",
       "      <td>3.183617</td>\n",
       "      <td>299.26</td>\n",
       "    </tr>\n",
       "    <tr>\n",
       "      <th>(20, 24]</th>\n",
       "      <td>126</td>\n",
       "      <td>2.986349</td>\n",
       "      <td>376.28</td>\n",
       "    </tr>\n",
       "    <tr>\n",
       "      <th>(24, 28]</th>\n",
       "      <td>51</td>\n",
       "      <td>2.772549</td>\n",
       "      <td>141.40</td>\n",
       "    </tr>\n",
       "    <tr>\n",
       "      <th>(28, 32]</th>\n",
       "      <td>31</td>\n",
       "      <td>3.075161</td>\n",
       "      <td>95.33</td>\n",
       "    </tr>\n",
       "    <tr>\n",
       "      <th>(32, 36]</th>\n",
       "      <td>22</td>\n",
       "      <td>2.795455</td>\n",
       "      <td>61.50</td>\n",
       "    </tr>\n",
       "    <tr>\n",
       "      <th>(36, 40]</th>\n",
       "      <td>14</td>\n",
       "      <td>3.581429</td>\n",
       "      <td>50.14</td>\n",
       "    </tr>\n",
       "    <tr>\n",
       "      <th>(40, 44]</th>\n",
       "      <td>6</td>\n",
       "      <td>3.305000</td>\n",
       "      <td>19.83</td>\n",
       "    </tr>\n",
       "    <tr>\n",
       "      <th>(44, 48]</th>\n",
       "      <td>1</td>\n",
       "      <td>1.700000</td>\n",
       "      <td>1.70</td>\n",
       "    </tr>\n",
       "  </tbody>\n",
       "</table>\n",
       "</div>"
      ],
      "text/plain": [
       "          count      mean     sum\n",
       "Age                              \n",
       "(4, 8]       10  3.749000   37.49\n",
       "(8, 12]      15  3.221333   48.32\n",
       "(12, 16]     44  3.002955  132.13\n",
       "(16, 20]     94  3.183617  299.26\n",
       "(20, 24]    126  2.986349  376.28\n",
       "(24, 28]     51  2.772549  141.40\n",
       "(28, 32]     31  3.075161   95.33\n",
       "(32, 36]     22  2.795455   61.50\n",
       "(36, 40]     14  3.581429   50.14\n",
       "(40, 44]      6  3.305000   19.83\n",
       "(44, 48]      1  1.700000    1.70"
      ]
     },
     "execution_count": 27,
     "metadata": {},
     "output_type": "execute_result"
    }
   ],
   "source": [
    "bins = pd.cut(Heroes_of_Pymoli['Age'], [4, 8, 12, 16, 20, 24, 28, 32, 36, 40, 44, 48])\n",
    "\n",
    "new_age_data = Heroes_of_Pymoli.groupby(bins)['Price'].agg(['count', 'mean', 'sum'])\n",
    "new_age_data.head(11)"
   ]
  },
  {
   "cell_type": "code",
   "execution_count": 28,
   "metadata": {},
   "outputs": [
    {
     "name": "stdout",
     "output_type": "stream",
     "text": [
      "Average Purchase Total per Person by Age Group 114.85272727272726\n"
     ]
    }
   ],
   "source": [
    "print(\"Average Purchase Total per Person by Age Group \" + str(new_age_data[\"sum\"].mean()))"
   ]
  },
  {
   "cell_type": "code",
   "execution_count": null,
   "metadata": {},
   "outputs": [],
   "source": [
    "* Identify the the top 5 spenders in the game by total purchase value, then list (in a table):\n",
    "  * SN\n",
    "  * Purchase Count\n",
    "  * Average Purchase Price\n",
    "  * Total Purchase Value\n"
   ]
  },
  {
   "cell_type": "code",
   "execution_count": 30,
   "metadata": {},
   "outputs": [
    {
     "data": {
      "text/html": [
       "<div>\n",
       "<style scoped>\n",
       "    .dataframe tbody tr th:only-of-type {\n",
       "        vertical-align: middle;\n",
       "    }\n",
       "\n",
       "    .dataframe tbody tr th {\n",
       "        vertical-align: top;\n",
       "    }\n",
       "\n",
       "    .dataframe thead th {\n",
       "        text-align: right;\n",
       "    }\n",
       "</style>\n",
       "<table border=\"1\" class=\"dataframe\">\n",
       "  <thead>\n",
       "    <tr style=\"text-align: right;\">\n",
       "      <th></th>\n",
       "      <th>Purchase ID</th>\n",
       "      <th>SN</th>\n",
       "      <th>Age</th>\n",
       "      <th>Gender</th>\n",
       "      <th>Item ID</th>\n",
       "      <th>Item Name</th>\n",
       "      <th>Price</th>\n",
       "      <th>Total</th>\n",
       "    </tr>\n",
       "  </thead>\n",
       "  <tbody>\n",
       "    <tr>\n",
       "      <th>554</th>\n",
       "      <td>554</td>\n",
       "      <td>Dyally87</td>\n",
       "      <td>22</td>\n",
       "      <td>Male</td>\n",
       "      <td>63</td>\n",
       "      <td>Stormfury Mace</td>\n",
       "      <td>4.99</td>\n",
       "      <td>4.99</td>\n",
       "    </tr>\n",
       "    <tr>\n",
       "      <th>110</th>\n",
       "      <td>110</td>\n",
       "      <td>Ririp86</td>\n",
       "      <td>25</td>\n",
       "      <td>Male</td>\n",
       "      <td>139</td>\n",
       "      <td>Mercy, Katana of Dismay</td>\n",
       "      <td>4.94</td>\n",
       "      <td>4.94</td>\n",
       "    </tr>\n",
       "    <tr>\n",
       "      <th>231</th>\n",
       "      <td>231</td>\n",
       "      <td>Yarithsurgue62</td>\n",
       "      <td>26</td>\n",
       "      <td>Male</td>\n",
       "      <td>139</td>\n",
       "      <td>Mercy, Katana of Dismay</td>\n",
       "      <td>4.94</td>\n",
       "      <td>4.94</td>\n",
       "    </tr>\n",
       "    <tr>\n",
       "      <th>246</th>\n",
       "      <td>246</td>\n",
       "      <td>Lirtilsa71</td>\n",
       "      <td>24</td>\n",
       "      <td>Male</td>\n",
       "      <td>139</td>\n",
       "      <td>Mercy, Katana of Dismay</td>\n",
       "      <td>4.94</td>\n",
       "      <td>4.94</td>\n",
       "    </tr>\n",
       "    <tr>\n",
       "      <th>493</th>\n",
       "      <td>493</td>\n",
       "      <td>Chanirrasta87</td>\n",
       "      <td>14</td>\n",
       "      <td>Male</td>\n",
       "      <td>139</td>\n",
       "      <td>Mercy, Katana of Dismay</td>\n",
       "      <td>4.94</td>\n",
       "      <td>4.94</td>\n",
       "    </tr>\n",
       "  </tbody>\n",
       "</table>\n",
       "</div>"
      ],
      "text/plain": [
       "     Purchase ID              SN  Age Gender  Item ID  \\\n",
       "554          554        Dyally87   22   Male       63   \n",
       "110          110         Ririp86   25   Male      139   \n",
       "231          231  Yarithsurgue62   26   Male      139   \n",
       "246          246      Lirtilsa71   24   Male      139   \n",
       "493          493   Chanirrasta87   14   Male      139   \n",
       "\n",
       "                   Item Name  Price  Total  \n",
       "554           Stormfury Mace   4.99   4.99  \n",
       "110  Mercy, Katana of Dismay   4.94   4.94  \n",
       "231  Mercy, Katana of Dismay   4.94   4.94  \n",
       "246  Mercy, Katana of Dismay   4.94   4.94  \n",
       "493  Mercy, Katana of Dismay   4.94   4.94  "
      ]
     },
     "execution_count": 30,
     "metadata": {},
     "output_type": "execute_result"
    }
   ],
   "source": [
    "Heroes_of_Pymoli['Total'] = Heroes_of_Pymoli.groupby(['SN', 'Item Name'])['Price'].transform('sum')\n",
    "Heroes_of_Pymoli.sort_values(by=['Total'], inplace=True, ascending=False)\n",
    "Heroes_of_Pymoli.head()"
   ]
  },
  {
   "cell_type": "code",
   "execution_count": 31,
   "metadata": {},
   "outputs": [],
   "source": [
    "SN_count= Heroes_of_Pymoli.groupby(\"SN\")\n",
    "Heroes_of_Pymoli['Purchase Count']= Heroes_of_Pymoli.groupby(['SN'])['SN'].transform('count')\n",
    "Heroes_of_Pymoli['Average Purchase Price']= Heroes_of_Pymoli.groupby(['SN'])['Price'].transform('mean')\n",
    "Heroes_of_Pymoli['Total Purchase Value']= Heroes_of_Pymoli.groupby(['SN'])['Price'].transform('sum')"
   ]
  },
  {
   "cell_type": "code",
   "execution_count": 33,
   "metadata": {},
   "outputs": [
    {
     "name": "stderr",
     "output_type": "stream",
     "text": [
      "C:\\Users\\hanys\\anaconda3\\lib\\site-packages\\pandas\\core\\frame.py:3997: SettingWithCopyWarning: \n",
      "A value is trying to be set on a copy of a slice from a DataFrame\n",
      "\n",
      "See the caveats in the documentation: https://pandas.pydata.org/pandas-docs/stable/user_guide/indexing.html#returning-a-view-versus-a-copy\n",
      "  errors=errors,\n"
     ]
    },
    {
     "data": {
      "text/html": [
       "<div>\n",
       "<style scoped>\n",
       "    .dataframe tbody tr th:only-of-type {\n",
       "        vertical-align: middle;\n",
       "    }\n",
       "\n",
       "    .dataframe tbody tr th {\n",
       "        vertical-align: top;\n",
       "    }\n",
       "\n",
       "    .dataframe thead th {\n",
       "        text-align: right;\n",
       "    }\n",
       "</style>\n",
       "<table border=\"1\" class=\"dataframe\">\n",
       "  <thead>\n",
       "    <tr style=\"text-align: right;\">\n",
       "      <th></th>\n",
       "      <th>Purchase Count</th>\n",
       "      <th>Average Purchase Price</th>\n",
       "      <th>Total Purchase Value</th>\n",
       "    </tr>\n",
       "    <tr>\n",
       "      <th>SN</th>\n",
       "      <th></th>\n",
       "      <th></th>\n",
       "      <th></th>\n",
       "    </tr>\n",
       "  </thead>\n",
       "  <tbody>\n",
       "    <tr>\n",
       "      <th>Dyally87</th>\n",
       "      <td>1</td>\n",
       "      <td>4.99</td>\n",
       "      <td>4.99</td>\n",
       "    </tr>\n",
       "    <tr>\n",
       "      <th>Lirtilsa71</th>\n",
       "      <td>1</td>\n",
       "      <td>4.94</td>\n",
       "      <td>4.94</td>\n",
       "    </tr>\n",
       "    <tr>\n",
       "      <th>Chanirrasta87</th>\n",
       "      <td>1</td>\n",
       "      <td>4.94</td>\n",
       "      <td>4.94</td>\n",
       "    </tr>\n",
       "    <tr>\n",
       "      <th>Ririp86</th>\n",
       "      <td>1</td>\n",
       "      <td>4.94</td>\n",
       "      <td>4.94</td>\n",
       "    </tr>\n",
       "    <tr>\n",
       "      <th>Yarithsurgue62</th>\n",
       "      <td>1</td>\n",
       "      <td>4.94</td>\n",
       "      <td>4.94</td>\n",
       "    </tr>\n",
       "  </tbody>\n",
       "</table>\n",
       "</div>"
      ],
      "text/plain": [
       "                Purchase Count  Average Purchase Price  Total Purchase Value\n",
       "SN                                                                          \n",
       "Dyally87                     1                    4.99                  4.99\n",
       "Lirtilsa71                   1                    4.94                  4.94\n",
       "Chanirrasta87                1                    4.94                  4.94\n",
       "Ririp86                      1                    4.94                  4.94\n",
       "Yarithsurgue62               1                    4.94                  4.94"
      ]
     },
     "execution_count": 33,
     "metadata": {},
     "output_type": "execute_result"
    }
   ],
   "source": [
    "spender_data = Heroes_of_Pymoli.groupby('SN').sum()\n",
    "spender_data.sort_values(by=['Total'], inplace=True, ascending=False)\n",
    "new_spenders_data = spender_data.head(5)\n",
    "new_spenders_data.drop(['Age', 'Purchase ID', 'Item ID', 'Price', 'Total'], axis=1, inplace=True)\n",
    "new_spenders_data.head()"
   ]
  },
  {
   "cell_type": "code",
   "execution_count": null,
   "metadata": {},
   "outputs": [],
   "source": [
    "* Identify the 5 most popular items by purchase count, then list (in a table):\n",
    "  * Item ID\n",
    "  * Item Name\n",
    "  * Purchase Count\n",
    "  * Item Price\n",
    "  * Total Purchase Value\n"
   ]
  },
  {
   "cell_type": "code",
   "execution_count": 415,
   "metadata": {},
   "outputs": [],
   "source": [
    "#####         new_Item_ID.head()"
   ]
  },
  {
   "cell_type": "code",
   "execution_count": 34,
   "metadata": {},
   "outputs": [],
   "source": [
    "new_Item_ID['Purchase Count']= new_Item_ID.groupby(['Item Name'])['Item Name'].transform('count')\n",
    "new_Item_ID['Total Purchase Value']= new_Item_ID.groupby(['Item Name'])['Price'].transform('sum')"
   ]
  },
  {
   "cell_type": "code",
   "execution_count": 35,
   "metadata": {},
   "outputs": [
    {
     "name": "stderr",
     "output_type": "stream",
     "text": [
      "C:\\Users\\hanys\\anaconda3\\lib\\site-packages\\pandas\\core\\frame.py:3997: SettingWithCopyWarning: \n",
      "A value is trying to be set on a copy of a slice from a DataFrame\n",
      "\n",
      "See the caveats in the documentation: https://pandas.pydata.org/pandas-docs/stable/user_guide/indexing.html#returning-a-view-versus-a-copy\n",
      "  errors=errors,\n"
     ]
    },
    {
     "data": {
      "text/html": [
       "<div>\n",
       "<style scoped>\n",
       "    .dataframe tbody tr th:only-of-type {\n",
       "        vertical-align: middle;\n",
       "    }\n",
       "\n",
       "    .dataframe tbody tr th {\n",
       "        vertical-align: top;\n",
       "    }\n",
       "\n",
       "    .dataframe thead th {\n",
       "        text-align: right;\n",
       "    }\n",
       "</style>\n",
       "<table border=\"1\" class=\"dataframe\">\n",
       "  <thead>\n",
       "    <tr style=\"text-align: right;\">\n",
       "      <th></th>\n",
       "      <th>Item ID</th>\n",
       "      <th>Price</th>\n",
       "      <th>Total</th>\n",
       "      <th>Purchase Count</th>\n",
       "      <th>Total Purchase Value</th>\n",
       "    </tr>\n",
       "    <tr>\n",
       "      <th>Item Name</th>\n",
       "      <th></th>\n",
       "      <th></th>\n",
       "      <th></th>\n",
       "      <th></th>\n",
       "      <th></th>\n",
       "    </tr>\n",
       "  </thead>\n",
       "  <tbody>\n",
       "    <tr>\n",
       "      <th>Final Critic</th>\n",
       "      <td>644</td>\n",
       "      <td>32.09</td>\n",
       "      <td>32.09</td>\n",
       "      <td>7</td>\n",
       "      <td>32.09</td>\n",
       "    </tr>\n",
       "    <tr>\n",
       "      <th>Fiery Glass Crusader</th>\n",
       "      <td>870</td>\n",
       "      <td>27.48</td>\n",
       "      <td>27.48</td>\n",
       "      <td>6</td>\n",
       "      <td>27.48</td>\n",
       "    </tr>\n",
       "    <tr>\n",
       "      <th>Fate, Vengeance of Eternal Justice</th>\n",
       "      <td>774</td>\n",
       "      <td>9.24</td>\n",
       "      <td>9.24</td>\n",
       "      <td>6</td>\n",
       "      <td>9.24</td>\n",
       "    </tr>\n",
       "    <tr>\n",
       "      <th>Oathbreaker, Spellblade of Trials</th>\n",
       "      <td>954</td>\n",
       "      <td>18.48</td>\n",
       "      <td>18.48</td>\n",
       "      <td>6</td>\n",
       "      <td>18.48</td>\n",
       "    </tr>\n",
       "    <tr>\n",
       "      <th>Singed Scalpel</th>\n",
       "      <td>515</td>\n",
       "      <td>21.75</td>\n",
       "      <td>21.75</td>\n",
       "      <td>5</td>\n",
       "      <td>21.75</td>\n",
       "    </tr>\n",
       "  </tbody>\n",
       "</table>\n",
       "</div>"
      ],
      "text/plain": [
       "                                    Item ID  Price  Total  Purchase Count  \\\n",
       "Item Name                                                                   \n",
       "Final Critic                            644  32.09  32.09               7   \n",
       "Fiery Glass Crusader                    870  27.48  27.48               6   \n",
       "Fate, Vengeance of Eternal Justice      774   9.24   9.24               6   \n",
       "Oathbreaker, Spellblade of Trials       954  18.48  18.48               6   \n",
       "Singed Scalpel                          515  21.75  21.75               5   \n",
       "\n",
       "                                    Total Purchase Value  \n",
       "Item Name                                                 \n",
       "Final Critic                                       32.09  \n",
       "Fiery Glass Crusader                               27.48  \n",
       "Fate, Vengeance of Eternal Justice                  9.24  \n",
       "Oathbreaker, Spellblade of Trials                  18.48  \n",
       "Singed Scalpel                                     21.75  "
      ]
     },
     "execution_count": 35,
     "metadata": {},
     "output_type": "execute_result"
    }
   ],
   "source": [
    "spender_data = Heroes_of_Pymoli.groupby('Item Name').sum()\n",
    "spender_data.sort_values(by=['Purchase Count'], inplace=True, ascending=False)\n",
    "new_spenders_data = spender_data.head(5)\n",
    "new_spenders_data.drop(['Age', 'Average Purchase Price', 'Purchase ID'], axis=1, inplace=True)\n",
    "new_spenders_data.head()"
   ]
  },
  {
   "cell_type": "markdown",
   "metadata": {},
   "source": [
    "* Identify the 5 most profitable items by total purchase value, then list (in a table):\n",
    "  * Item ID\n",
    "  * Item Name\n",
    "  * Purchase Count\n",
    "  * Item Price\n",
    "  * Total Purchase Value"
   ]
  },
  {
   "cell_type": "code",
   "execution_count": 36,
   "metadata": {},
   "outputs": [],
   "source": [
    "new_Item_ID['Purchase Count']= new_Item_ID.groupby(['Item Name'])['Item Name'].transform('count')\n",
    "new_Item_ID['Total Purchase Value']= new_Item_ID.groupby(['Item Name'])['Price'].transform('sum')"
   ]
  },
  {
   "cell_type": "code",
   "execution_count": 64,
   "metadata": {},
   "outputs": [
    {
     "data": {
      "text/html": [
       "<div>\n",
       "<style scoped>\n",
       "    .dataframe tbody tr th:only-of-type {\n",
       "        vertical-align: middle;\n",
       "    }\n",
       "\n",
       "    .dataframe tbody tr th {\n",
       "        vertical-align: top;\n",
       "    }\n",
       "\n",
       "    .dataframe thead th {\n",
       "        text-align: right;\n",
       "    }\n",
       "</style>\n",
       "<table border=\"1\" class=\"dataframe\">\n",
       "  <thead>\n",
       "    <tr style=\"text-align: right;\">\n",
       "      <th></th>\n",
       "      <th>Purchase ID</th>\n",
       "      <th>SN</th>\n",
       "      <th>Age</th>\n",
       "      <th>Gender</th>\n",
       "      <th>Item Name</th>\n",
       "      <th>Price</th>\n",
       "      <th>Purchase Count</th>\n",
       "      <th>Total Purchase Value</th>\n",
       "    </tr>\n",
       "    <tr>\n",
       "      <th>Item ID</th>\n",
       "      <th></th>\n",
       "      <th></th>\n",
       "      <th></th>\n",
       "      <th></th>\n",
       "      <th></th>\n",
       "      <th></th>\n",
       "      <th></th>\n",
       "      <th></th>\n",
       "    </tr>\n",
       "  </thead>\n",
       "  <tbody>\n",
       "    <tr>\n",
       "      <th>0</th>\n",
       "      <td>4</td>\n",
       "      <td>4</td>\n",
       "      <td>4</td>\n",
       "      <td>4</td>\n",
       "      <td>4</td>\n",
       "      <td>4</td>\n",
       "      <td>42</td>\n",
       "      <td>168</td>\n",
       "    </tr>\n",
       "    <tr>\n",
       "      <th>1</th>\n",
       "      <td>4</td>\n",
       "      <td>4</td>\n",
       "      <td>4</td>\n",
       "      <td>4</td>\n",
       "      <td>4</td>\n",
       "      <td>4</td>\n",
       "      <td>42</td>\n",
       "      <td>168</td>\n",
       "    </tr>\n",
       "    <tr>\n",
       "      <th>2</th>\n",
       "      <td>6</td>\n",
       "      <td>6</td>\n",
       "      <td>6</td>\n",
       "      <td>6</td>\n",
       "      <td>6</td>\n",
       "      <td>6</td>\n",
       "      <td>17</td>\n",
       "      <td>102</td>\n",
       "    </tr>\n",
       "    <tr>\n",
       "      <th>3</th>\n",
       "      <td>6</td>\n",
       "      <td>6</td>\n",
       "      <td>6</td>\n",
       "      <td>6</td>\n",
       "      <td>6</td>\n",
       "      <td>6</td>\n",
       "      <td>17</td>\n",
       "      <td>102</td>\n",
       "    </tr>\n",
       "    <tr>\n",
       "      <th>4</th>\n",
       "      <td>5</td>\n",
       "      <td>5</td>\n",
       "      <td>5</td>\n",
       "      <td>5</td>\n",
       "      <td>5</td>\n",
       "      <td>5</td>\n",
       "      <td>36</td>\n",
       "      <td>180</td>\n",
       "    </tr>\n",
       "    <tr>\n",
       "      <th>...</th>\n",
       "      <td>...</td>\n",
       "      <td>...</td>\n",
       "      <td>...</td>\n",
       "      <td>...</td>\n",
       "      <td>...</td>\n",
       "      <td>...</td>\n",
       "      <td>...</td>\n",
       "      <td>...</td>\n",
       "    </tr>\n",
       "    <tr>\n",
       "      <th>178</th>\n",
       "      <td>12</td>\n",
       "      <td>12</td>\n",
       "      <td>12</td>\n",
       "      <td>12</td>\n",
       "      <td>12</td>\n",
       "      <td>12</td>\n",
       "      <td>1</td>\n",
       "      <td>12</td>\n",
       "    </tr>\n",
       "    <tr>\n",
       "      <th>179</th>\n",
       "      <td>6</td>\n",
       "      <td>6</td>\n",
       "      <td>6</td>\n",
       "      <td>6</td>\n",
       "      <td>6</td>\n",
       "      <td>6</td>\n",
       "      <td>17</td>\n",
       "      <td>102</td>\n",
       "    </tr>\n",
       "    <tr>\n",
       "      <th>181</th>\n",
       "      <td>5</td>\n",
       "      <td>5</td>\n",
       "      <td>5</td>\n",
       "      <td>5</td>\n",
       "      <td>5</td>\n",
       "      <td>5</td>\n",
       "      <td>36</td>\n",
       "      <td>180</td>\n",
       "    </tr>\n",
       "    <tr>\n",
       "      <th>182</th>\n",
       "      <td>3</td>\n",
       "      <td>3</td>\n",
       "      <td>3</td>\n",
       "      <td>3</td>\n",
       "      <td>3</td>\n",
       "      <td>3</td>\n",
       "      <td>30</td>\n",
       "      <td>90</td>\n",
       "    </tr>\n",
       "    <tr>\n",
       "      <th>183</th>\n",
       "      <td>3</td>\n",
       "      <td>3</td>\n",
       "      <td>3</td>\n",
       "      <td>3</td>\n",
       "      <td>3</td>\n",
       "      <td>3</td>\n",
       "      <td>30</td>\n",
       "      <td>90</td>\n",
       "    </tr>\n",
       "  </tbody>\n",
       "</table>\n",
       "<p>179 rows × 8 columns</p>\n",
       "</div>"
      ],
      "text/plain": [
       "         Purchase ID  SN  Age  Gender  Item Name  Price  Purchase Count  \\\n",
       "Item ID                                                                   \n",
       "0                  4   4    4       4          4      4              42   \n",
       "1                  4   4    4       4          4      4              42   \n",
       "2                  6   6    6       6          6      6              17   \n",
       "3                  6   6    6       6          6      6              17   \n",
       "4                  5   5    5       5          5      5              36   \n",
       "...              ...  ..  ...     ...        ...    ...             ...   \n",
       "178               12  12   12      12         12     12               1   \n",
       "179                6   6    6       6          6      6              17   \n",
       "181                5   5    5       5          5      5              36   \n",
       "182                3   3    3       3          3      3              30   \n",
       "183                3   3    3       3          3      3              30   \n",
       "\n",
       "         Total Purchase Value  \n",
       "Item ID                        \n",
       "0                         168  \n",
       "1                         168  \n",
       "2                         102  \n",
       "3                         102  \n",
       "4                         180  \n",
       "...                       ...  \n",
       "178                        12  \n",
       "179                       102  \n",
       "181                       180  \n",
       "182                        90  \n",
       "183                        90  \n",
       "\n",
       "[179 rows x 8 columns]"
      ]
     },
     "execution_count": 64,
     "metadata": {},
     "output_type": "execute_result"
    }
   ],
   "source": []
  },
  {
   "cell_type": "code",
   "execution_count": 62,
   "metadata": {},
   "outputs": [
    {
     "name": "stderr",
     "output_type": "stream",
     "text": [
      "C:\\Users\\hanys\\anaconda3\\lib\\site-packages\\pandas\\core\\frame.py:3997: SettingWithCopyWarning: \n",
      "A value is trying to be set on a copy of a slice from a DataFrame\n",
      "\n",
      "See the caveats in the documentation: https://pandas.pydata.org/pandas-docs/stable/user_guide/indexing.html#returning-a-view-versus-a-copy\n",
      "  errors=errors,\n"
     ]
    },
    {
     "data": {
      "text/html": [
       "<div>\n",
       "<style scoped>\n",
       "    .dataframe tbody tr th:only-of-type {\n",
       "        vertical-align: middle;\n",
       "    }\n",
       "\n",
       "    .dataframe tbody tr th {\n",
       "        vertical-align: top;\n",
       "    }\n",
       "\n",
       "    .dataframe thead th {\n",
       "        text-align: right;\n",
       "    }\n",
       "</style>\n",
       "<table border=\"1\" class=\"dataframe\">\n",
       "  <thead>\n",
       "    <tr style=\"text-align: right;\">\n",
       "      <th></th>\n",
       "      <th>Item ID</th>\n",
       "      <th>Price</th>\n",
       "      <th>Total</th>\n",
       "      <th>Purchase Count</th>\n",
       "      <th>Total Purchase Value</th>\n",
       "    </tr>\n",
       "    <tr>\n",
       "      <th>Item Name</th>\n",
       "      <th></th>\n",
       "      <th></th>\n",
       "      <th></th>\n",
       "      <th></th>\n",
       "      <th></th>\n",
       "    </tr>\n",
       "  </thead>\n",
       "  <tbody>\n",
       "    <tr>\n",
       "      <th>Final Critic</th>\n",
       "      <td>644</td>\n",
       "      <td>32.09</td>\n",
       "      <td>32.09</td>\n",
       "      <td>7</td>\n",
       "      <td>32.09</td>\n",
       "    </tr>\n",
       "    <tr>\n",
       "      <th>Fiery Glass Crusader</th>\n",
       "      <td>870</td>\n",
       "      <td>27.48</td>\n",
       "      <td>27.48</td>\n",
       "      <td>6</td>\n",
       "      <td>27.48</td>\n",
       "    </tr>\n",
       "    <tr>\n",
       "      <th>Fate, Vengeance of Eternal Justice</th>\n",
       "      <td>774</td>\n",
       "      <td>9.24</td>\n",
       "      <td>9.24</td>\n",
       "      <td>6</td>\n",
       "      <td>9.24</td>\n",
       "    </tr>\n",
       "    <tr>\n",
       "      <th>Oathbreaker, Spellblade of Trials</th>\n",
       "      <td>954</td>\n",
       "      <td>18.48</td>\n",
       "      <td>18.48</td>\n",
       "      <td>6</td>\n",
       "      <td>18.48</td>\n",
       "    </tr>\n",
       "    <tr>\n",
       "      <th>Singed Scalpel</th>\n",
       "      <td>515</td>\n",
       "      <td>21.75</td>\n",
       "      <td>21.75</td>\n",
       "      <td>5</td>\n",
       "      <td>21.75</td>\n",
       "    </tr>\n",
       "  </tbody>\n",
       "</table>\n",
       "</div>"
      ],
      "text/plain": [
       "                                    Item ID  Price  Total  Purchase Count  \\\n",
       "Item Name                                                                   \n",
       "Final Critic                            644  32.09  32.09               7   \n",
       "Fiery Glass Crusader                    870  27.48  27.48               6   \n",
       "Fate, Vengeance of Eternal Justice      774   9.24   9.24               6   \n",
       "Oathbreaker, Spellblade of Trials       954  18.48  18.48               6   \n",
       "Singed Scalpel                          515  21.75  21.75               5   \n",
       "\n",
       "                                    Total Purchase Value  \n",
       "Item Name                                                 \n",
       "Final Critic                                       32.09  \n",
       "Fiery Glass Crusader                               27.48  \n",
       "Fate, Vengeance of Eternal Justice                  9.24  \n",
       "Oathbreaker, Spellblade of Trials                  18.48  \n",
       "Singed Scalpel                                     21.75  "
      ]
     },
     "execution_count": 62,
     "metadata": {},
     "output_type": "execute_result"
    }
   ],
   "source": [
    "Purchase_Value = Heroes_of_Pymoli.groupby('Item Name').sum()\n",
    "Purchase_Value.sort_values(by=['Total Purchase Value'], inplace=True, ascending=False)\n",
    "Total_Purchase_Value = spender_data.head(5)\n",
    "Total_Purchase_Value.drop(['Age', 'Average Purchase Price', 'Purchase ID'], axis=1, inplace=True)\n",
    "Total_Purchase_Value.head()"
   ]
  },
  {
   "cell_type": "code",
   "execution_count": 72,
   "metadata": {},
   "outputs": [
    {
     "name": "stderr",
     "output_type": "stream",
     "text": [
      "C:\\Users\\hanys\\anaconda3\\lib\\site-packages\\ipykernel_launcher.py:4: SettingWithCopyWarning: \n",
      "A value is trying to be set on a copy of a slice from a DataFrame\n",
      "\n",
      "See the caveats in the documentation: https://pandas.pydata.org/pandas-docs/stable/user_guide/indexing.html#returning-a-view-versus-a-copy\n",
      "  after removing the cwd from sys.path.\n",
      "C:\\Users\\hanys\\anaconda3\\lib\\site-packages\\IPython\\core\\interactiveshell.py:3331: SettingWithCopyWarning: \n",
      "A value is trying to be set on a copy of a slice from a DataFrame\n",
      "\n",
      "See the caveats in the documentation: https://pandas.pydata.org/pandas-docs/stable/user_guide/indexing.html#returning-a-view-versus-a-copy\n",
      "  exec(code_obj, self.user_global_ns, self.user_ns)\n"
     ]
    }
   ],
   "source": [
    "itemName = Total_Purchase_Value.head(5)['Item ID']\n",
    "itemPurchas = Total_Purchase_Value.head(5)['Purchase Count']\n",
    "for i in range(0,5):\n",
    "    Total_Purchase_Value['Item ID'][i]=int(itemName[i]/itemPurchas[i])"
   ]
  },
  {
   "cell_type": "code",
   "execution_count": 73,
   "metadata": {},
   "outputs": [
    {
     "data": {
      "text/html": [
       "<div>\n",
       "<style scoped>\n",
       "    .dataframe tbody tr th:only-of-type {\n",
       "        vertical-align: middle;\n",
       "    }\n",
       "\n",
       "    .dataframe tbody tr th {\n",
       "        vertical-align: top;\n",
       "    }\n",
       "\n",
       "    .dataframe thead th {\n",
       "        text-align: right;\n",
       "    }\n",
       "</style>\n",
       "<table border=\"1\" class=\"dataframe\">\n",
       "  <thead>\n",
       "    <tr style=\"text-align: right;\">\n",
       "      <th></th>\n",
       "      <th>Item ID</th>\n",
       "      <th>Price</th>\n",
       "      <th>Total</th>\n",
       "      <th>Purchase Count</th>\n",
       "      <th>Total Purchase Value</th>\n",
       "    </tr>\n",
       "    <tr>\n",
       "      <th>Item Name</th>\n",
       "      <th></th>\n",
       "      <th></th>\n",
       "      <th></th>\n",
       "      <th></th>\n",
       "      <th></th>\n",
       "    </tr>\n",
       "  </thead>\n",
       "  <tbody>\n",
       "    <tr>\n",
       "      <th>Final Critic</th>\n",
       "      <td>92</td>\n",
       "      <td>32.09</td>\n",
       "      <td>32.09</td>\n",
       "      <td>7</td>\n",
       "      <td>32.09</td>\n",
       "    </tr>\n",
       "    <tr>\n",
       "      <th>Fiery Glass Crusader</th>\n",
       "      <td>145</td>\n",
       "      <td>27.48</td>\n",
       "      <td>27.48</td>\n",
       "      <td>6</td>\n",
       "      <td>27.48</td>\n",
       "    </tr>\n",
       "    <tr>\n",
       "      <th>Fate, Vengeance of Eternal Justice</th>\n",
       "      <td>129</td>\n",
       "      <td>9.24</td>\n",
       "      <td>9.24</td>\n",
       "      <td>6</td>\n",
       "      <td>9.24</td>\n",
       "    </tr>\n",
       "    <tr>\n",
       "      <th>Oathbreaker, Spellblade of Trials</th>\n",
       "      <td>159</td>\n",
       "      <td>18.48</td>\n",
       "      <td>18.48</td>\n",
       "      <td>6</td>\n",
       "      <td>18.48</td>\n",
       "    </tr>\n",
       "    <tr>\n",
       "      <th>Singed Scalpel</th>\n",
       "      <td>103</td>\n",
       "      <td>21.75</td>\n",
       "      <td>21.75</td>\n",
       "      <td>5</td>\n",
       "      <td>21.75</td>\n",
       "    </tr>\n",
       "  </tbody>\n",
       "</table>\n",
       "</div>"
      ],
      "text/plain": [
       "                                    Item ID  Price  Total  Purchase Count  \\\n",
       "Item Name                                                                   \n",
       "Final Critic                             92  32.09  32.09               7   \n",
       "Fiery Glass Crusader                    145  27.48  27.48               6   \n",
       "Fate, Vengeance of Eternal Justice      129   9.24   9.24               6   \n",
       "Oathbreaker, Spellblade of Trials       159  18.48  18.48               6   \n",
       "Singed Scalpel                          103  21.75  21.75               5   \n",
       "\n",
       "                                    Total Purchase Value  \n",
       "Item Name                                                 \n",
       "Final Critic                                       32.09  \n",
       "Fiery Glass Crusader                               27.48  \n",
       "Fate, Vengeance of Eternal Justice                  9.24  \n",
       "Oathbreaker, Spellblade of Trials                  18.48  \n",
       "Singed Scalpel                                     21.75  "
      ]
     },
     "execution_count": 73,
     "metadata": {},
     "output_type": "execute_result"
    }
   ],
   "source": [
    "Total_Purchase_Value"
   ]
  },
  {
   "cell_type": "markdown",
   "metadata": {},
   "source": [
    "# Findings:\n",
    "<ul>\n",
    "    <li>\n",
    "   Total revenue is 2379.77$\n",
    "   </li>\n",
    "   \n",
    "   <li>\n",
    "   Final Critic game is the most popular and profiable as well\n",
    "   </li>\n",
    "   \n",
    "   <li>\n",
    "   Most profitable average age is between 20 to 24 with revenue of 799.74$\n",
    "        </li>\n",
    "    </ul>"
   ]
  },
  {
   "cell_type": "code",
   "execution_count": null,
   "metadata": {},
   "outputs": [],
   "source": []
  }
 ],
 "metadata": {
  "kernelspec": {
   "display_name": "Python 3",
   "language": "python",
   "name": "python3"
  },
  "language_info": {
   "codemirror_mode": {
    "name": "ipython",
    "version": 3
   },
   "file_extension": ".py",
   "mimetype": "text/x-python",
   "name": "python",
   "nbconvert_exporter": "python",
   "pygments_lexer": "ipython3",
   "version": "3.7.6"
  }
 },
 "nbformat": 4,
 "nbformat_minor": 4
}
